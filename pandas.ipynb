{
  "nbformat": 4,
  "nbformat_minor": 0,
  "metadata": {
    "colab": {
      "provenance": [],
      "authorship_tag": "ABX9TyNumk690CQ1nNhonxBUVdVJ",
      "include_colab_link": true
    },
    "kernelspec": {
      "name": "python3",
      "display_name": "Python 3"
    },
    "language_info": {
      "name": "python"
    }
  },
  "cells": [
    {
      "cell_type": "markdown",
      "metadata": {
        "id": "view-in-github",
        "colab_type": "text"
      },
      "source": [
        "<a href=\"https://colab.research.google.com/github/shauryaraj9/PBEL/blob/main/pandas.ipynb\" target=\"_parent\"><img src=\"https://colab.research.google.com/assets/colab-badge.svg\" alt=\"Open In Colab\"/></a>"
      ]
    },
    {
      "cell_type": "markdown",
      "source": [
        "![image.png](data:image/png;base64,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)"
      ],
      "metadata": {
        "id": "7TTduHKSYm5r"
      }
    },
    {
      "cell_type": "markdown",
      "source": [
        "Pandas is an open-source Python library widely used for data manipulation and analysis. It provides high-performance, easy-to-use data structures and data analysis tools, making it a fundamental component of the data science ecosystem in Python.\n",
        "Key Features and Concepts:\n",
        "Data Structures:\n",
        "Pandas introduces two primary data structures:\n",
        "Series: A one-dimensional labeled array capable of holding any data type (integers, strings, floating point numbers, Python objects, etc.). It can be thought of as a single column in a spreadsheet.\n",
        "DataFrame: A two-dimensional labeled data structure with columns of potentially different types. It is similar to a spreadsheet or a SQL table, with rows and columns."
      ],
      "metadata": {
        "id": "UnAMoQtrZaUI"
      }
    },
    {
      "cell_type": "code",
      "source": [
        "import pandas as pd\n",
        "\n",
        "# Series: 1D labeled array\n",
        "print(pd.Series([1, 2, 3, 4]))\n",
        "\n",
        "# DataFrame: 2D table (rows x columns)\n",
        "dict1 = {\"name\": [\"shaurya\", \"rahul\", \"ram\"], \"id\": [1, 2, 3]}\n",
        "a = pd.DataFrame(dict1)\n",
        "print(a)\n"
      ],
      "metadata": {
        "colab": {
          "base_uri": "https://localhost:8080/"
        },
        "id": "vYeV0Z5FZ3un",
        "outputId": "1d7d1572-be44-4c45-abe8-170b9603cd07"
      },
      "execution_count": null,
      "outputs": [
        {
          "output_type": "stream",
          "name": "stdout",
          "text": [
            "0    1\n",
            "1    2\n",
            "2    3\n",
            "3    4\n",
            "dtype: int64\n",
            "      name  id\n",
            "0  shaurya   1\n",
            "1    rahul   2\n",
            "2      ram   3\n"
          ]
        }
      ]
    },
    {
      "cell_type": "code",
      "source": [
        "import pandas as pd\n",
        "\n",
        "dict1 = {\"name\": [\"shaurya\", \"rahul\", \"ram\"], \"id\": [1, 2, 3]}\n",
        "df = pd.DataFrame(dict1)\n",
        "print(df)\n"
      ],
      "metadata": {
        "colab": {
          "base_uri": "https://localhost:8080/"
        },
        "id": "nLcXtHIdbk5D",
        "outputId": "4e635e09-40cf-4083-ac0b-ed89a8907bf1"
      },
      "execution_count": null,
      "outputs": [
        {
          "output_type": "stream",
          "name": "stdout",
          "text": [
            "      name  id\n",
            "0  shaurya   1\n",
            "1    rahul   2\n",
            "2      ram   3\n"
          ]
        }
      ]
    },
    {
      "cell_type": "code",
      "source": [
        "!pip install opendatasets"
      ],
      "metadata": {
        "id": "xfxJdbfgcbdH",
        "colab": {
          "base_uri": "https://localhost:8080/"
        },
        "outputId": "eaee2a42-c843-4ffb-e7b6-06852530ceaf"
      },
      "execution_count": null,
      "outputs": [
        {
          "output_type": "stream",
          "name": "stdout",
          "text": [
            "Collecting opendatasets\n",
            "  Downloading opendatasets-0.1.22-py3-none-any.whl.metadata (9.2 kB)\n",
            "Requirement already satisfied: tqdm in /usr/local/lib/python3.11/dist-packages (from opendatasets) (4.67.1)\n",
            "Requirement already satisfied: kaggle in /usr/local/lib/python3.11/dist-packages (from opendatasets) (1.7.4.5)\n",
            "Requirement already satisfied: click in /usr/local/lib/python3.11/dist-packages (from opendatasets) (8.2.1)\n",
            "Requirement already satisfied: bleach in /usr/local/lib/python3.11/dist-packages (from kaggle->opendatasets) (6.2.0)\n",
            "Requirement already satisfied: certifi>=14.05.14 in /usr/local/lib/python3.11/dist-packages (from kaggle->opendatasets) (2025.7.14)\n",
            "Requirement already satisfied: charset-normalizer in /usr/local/lib/python3.11/dist-packages (from kaggle->opendatasets) (3.4.2)\n",
            "Requirement already satisfied: idna in /usr/local/lib/python3.11/dist-packages (from kaggle->opendatasets) (3.10)\n",
            "Requirement already satisfied: protobuf in /usr/local/lib/python3.11/dist-packages (from kaggle->opendatasets) (5.29.5)\n",
            "Requirement already satisfied: python-dateutil>=2.5.3 in /usr/local/lib/python3.11/dist-packages (from kaggle->opendatasets) (2.9.0.post0)\n",
            "Requirement already satisfied: python-slugify in /usr/local/lib/python3.11/dist-packages (from kaggle->opendatasets) (8.0.4)\n",
            "Requirement already satisfied: requests in /usr/local/lib/python3.11/dist-packages (from kaggle->opendatasets) (2.32.3)\n",
            "Requirement already satisfied: setuptools>=21.0.0 in /usr/local/lib/python3.11/dist-packages (from kaggle->opendatasets) (75.2.0)\n",
            "Requirement already satisfied: six>=1.10 in /usr/local/lib/python3.11/dist-packages (from kaggle->opendatasets) (1.17.0)\n",
            "Requirement already satisfied: text-unidecode in /usr/local/lib/python3.11/dist-packages (from kaggle->opendatasets) (1.3)\n",
            "Requirement already satisfied: urllib3>=1.15.1 in /usr/local/lib/python3.11/dist-packages (from kaggle->opendatasets) (2.4.0)\n",
            "Requirement already satisfied: webencodings in /usr/local/lib/python3.11/dist-packages (from kaggle->opendatasets) (0.5.1)\n",
            "Downloading opendatasets-0.1.22-py3-none-any.whl (15 kB)\n",
            "Installing collected packages: opendatasets\n",
            "Successfully installed opendatasets-0.1.22\n"
          ]
        }
      ]
    },
    {
      "cell_type": "code",
      "source": [
        "import opendatasets as od\n",
        "od.download(\"https://www.kaggle.com/datasets/shivamb/netflix-shows\")"
      ],
      "metadata": {
        "colab": {
          "base_uri": "https://localhost:8080/"
        },
        "id": "DEjiTJaafHov",
        "outputId": "65a2b041-0ede-47d2-cfcc-ab63a3b5ddf9"
      },
      "execution_count": null,
      "outputs": [
        {
          "output_type": "stream",
          "name": "stdout",
          "text": [
            "Please provide your Kaggle credentials to download this dataset. Learn more: http://bit.ly/kaggle-creds\n",
            "Your Kaggle username: shauryaraj09\n",
            "Your Kaggle Key: ··········\n",
            "Dataset URL: https://www.kaggle.com/datasets/shivamb/netflix-shows\n",
            "Downloading netflix-shows.zip to ./netflix-shows\n"
          ]
        },
        {
          "output_type": "stream",
          "name": "stderr",
          "text": [
            "100%|██████████| 1.34M/1.34M [00:00<00:00, 419MB/s]"
          ]
        },
        {
          "output_type": "stream",
          "name": "stdout",
          "text": [
            "\n"
          ]
        },
        {
          "output_type": "stream",
          "name": "stderr",
          "text": [
            "\n"
          ]
        }
      ]
    },
    {
      "cell_type": "code",
      "source": [
        "df=pd.read_csv(\"netflix-shows/netflix_titles.csv\")\n",
        "df.sample()#random row"
      ],
      "metadata": {
        "colab": {
          "base_uri": "https://localhost:8080/",
          "height": 98
        },
        "id": "FMB9ZiuxgzJk",
        "outputId": "d814d545-57fa-4c12-b9b4-dde409e9bac0"
      },
      "execution_count": null,
      "outputs": [
        {
          "output_type": "execute_result",
          "data": {
            "text/plain": [
              "     show_id   type          title      director  \\\n",
              "6949   s6950  Movie  Heartbreakers  David Mirkin   \n",
              "\n",
              "                                                   cast        country  \\\n",
              "6949  Sigourney Weaver, Jennifer Love Hewitt, Ray Li...  United States   \n",
              "\n",
              "             date_added  release_year rating duration  \\\n",
              "6949  December 31, 2019          2001  PG-13  124 min   \n",
              "\n",
              "                      listed_in  \\\n",
              "6949  Comedies, Romantic Movies   \n",
              "\n",
              "                                            description  \n",
              "6949  In this stylish comedy, a mother-daughter con ...  "
            ],
            "text/html": [
              "\n",
              "  <div id=\"df-e46c918f-613e-43a5-87ba-68b5aeec75bc\" class=\"colab-df-container\">\n",
              "    <div>\n",
              "<style scoped>\n",
              "    .dataframe tbody tr th:only-of-type {\n",
              "        vertical-align: middle;\n",
              "    }\n",
              "\n",
              "    .dataframe tbody tr th {\n",
              "        vertical-align: top;\n",
              "    }\n",
              "\n",
              "    .dataframe thead th {\n",
              "        text-align: right;\n",
              "    }\n",
              "</style>\n",
              "<table border=\"1\" class=\"dataframe\">\n",
              "  <thead>\n",
              "    <tr style=\"text-align: right;\">\n",
              "      <th></th>\n",
              "      <th>show_id</th>\n",
              "      <th>type</th>\n",
              "      <th>title</th>\n",
              "      <th>director</th>\n",
              "      <th>cast</th>\n",
              "      <th>country</th>\n",
              "      <th>date_added</th>\n",
              "      <th>release_year</th>\n",
              "      <th>rating</th>\n",
              "      <th>duration</th>\n",
              "      <th>listed_in</th>\n",
              "      <th>description</th>\n",
              "    </tr>\n",
              "  </thead>\n",
              "  <tbody>\n",
              "    <tr>\n",
              "      <th>6949</th>\n",
              "      <td>s6950</td>\n",
              "      <td>Movie</td>\n",
              "      <td>Heartbreakers</td>\n",
              "      <td>David Mirkin</td>\n",
              "      <td>Sigourney Weaver, Jennifer Love Hewitt, Ray Li...</td>\n",
              "      <td>United States</td>\n",
              "      <td>December 31, 2019</td>\n",
              "      <td>2001</td>\n",
              "      <td>PG-13</td>\n",
              "      <td>124 min</td>\n",
              "      <td>Comedies, Romantic Movies</td>\n",
              "      <td>In this stylish comedy, a mother-daughter con ...</td>\n",
              "    </tr>\n",
              "  </tbody>\n",
              "</table>\n",
              "</div>\n",
              "    <div class=\"colab-df-buttons\">\n",
              "\n",
              "  <div class=\"colab-df-container\">\n",
              "    <button class=\"colab-df-convert\" onclick=\"convertToInteractive('df-e46c918f-613e-43a5-87ba-68b5aeec75bc')\"\n",
              "            title=\"Convert this dataframe to an interactive table.\"\n",
              "            style=\"display:none;\">\n",
              "\n",
              "  <svg xmlns=\"http://www.w3.org/2000/svg\" height=\"24px\" viewBox=\"0 -960 960 960\">\n",
              "    <path d=\"M120-120v-720h720v720H120Zm60-500h600v-160H180v160Zm220 220h160v-160H400v160Zm0 220h160v-160H400v160ZM180-400h160v-160H180v160Zm440 0h160v-160H620v160ZM180-180h160v-160H180v160Zm440 0h160v-160H620v160Z\"/>\n",
              "  </svg>\n",
              "    </button>\n",
              "\n",
              "  <style>\n",
              "    .colab-df-container {\n",
              "      display:flex;\n",
              "      gap: 12px;\n",
              "    }\n",
              "\n",
              "    .colab-df-convert {\n",
              "      background-color: #E8F0FE;\n",
              "      border: none;\n",
              "      border-radius: 50%;\n",
              "      cursor: pointer;\n",
              "      display: none;\n",
              "      fill: #1967D2;\n",
              "      height: 32px;\n",
              "      padding: 0 0 0 0;\n",
              "      width: 32px;\n",
              "    }\n",
              "\n",
              "    .colab-df-convert:hover {\n",
              "      background-color: #E2EBFA;\n",
              "      box-shadow: 0px 1px 2px rgba(60, 64, 67, 0.3), 0px 1px 3px 1px rgba(60, 64, 67, 0.15);\n",
              "      fill: #174EA6;\n",
              "    }\n",
              "\n",
              "    .colab-df-buttons div {\n",
              "      margin-bottom: 4px;\n",
              "    }\n",
              "\n",
              "    [theme=dark] .colab-df-convert {\n",
              "      background-color: #3B4455;\n",
              "      fill: #D2E3FC;\n",
              "    }\n",
              "\n",
              "    [theme=dark] .colab-df-convert:hover {\n",
              "      background-color: #434B5C;\n",
              "      box-shadow: 0px 1px 3px 1px rgba(0, 0, 0, 0.15);\n",
              "      filter: drop-shadow(0px 1px 2px rgba(0, 0, 0, 0.3));\n",
              "      fill: #FFFFFF;\n",
              "    }\n",
              "  </style>\n",
              "\n",
              "    <script>\n",
              "      const buttonEl =\n",
              "        document.querySelector('#df-e46c918f-613e-43a5-87ba-68b5aeec75bc button.colab-df-convert');\n",
              "      buttonEl.style.display =\n",
              "        google.colab.kernel.accessAllowed ? 'block' : 'none';\n",
              "\n",
              "      async function convertToInteractive(key) {\n",
              "        const element = document.querySelector('#df-e46c918f-613e-43a5-87ba-68b5aeec75bc');\n",
              "        const dataTable =\n",
              "          await google.colab.kernel.invokeFunction('convertToInteractive',\n",
              "                                                    [key], {});\n",
              "        if (!dataTable) return;\n",
              "\n",
              "        const docLinkHtml = 'Like what you see? Visit the ' +\n",
              "          '<a target=\"_blank\" href=https://colab.research.google.com/notebooks/data_table.ipynb>data table notebook</a>'\n",
              "          + ' to learn more about interactive tables.';\n",
              "        element.innerHTML = '';\n",
              "        dataTable['output_type'] = 'display_data';\n",
              "        await google.colab.output.renderOutput(dataTable, element);\n",
              "        const docLink = document.createElement('div');\n",
              "        docLink.innerHTML = docLinkHtml;\n",
              "        element.appendChild(docLink);\n",
              "      }\n",
              "    </script>\n",
              "  </div>\n",
              "\n",
              "\n",
              "    </div>\n",
              "  </div>\n"
            ],
            "application/vnd.google.colaboratory.intrinsic+json": {
              "type": "dataframe",
              "repr_error": "0"
            }
          },
          "metadata": {},
          "execution_count": 25
        }
      ]
    },
    {
      "cell_type": "code",
      "source": [
        "df.info()"
      ],
      "metadata": {
        "colab": {
          "base_uri": "https://localhost:8080/"
        },
        "id": "bNDq_zzPjlW1",
        "outputId": "0a16a6bd-8ae6-470f-fff0-4ec8fea4c842"
      },
      "execution_count": null,
      "outputs": [
        {
          "output_type": "stream",
          "name": "stdout",
          "text": [
            "<class 'pandas.core.frame.DataFrame'>\n",
            "RangeIndex: 8807 entries, 0 to 8806\n",
            "Data columns (total 12 columns):\n",
            " #   Column        Non-Null Count  Dtype \n",
            "---  ------        --------------  ----- \n",
            " 0   show_id       8807 non-null   object\n",
            " 1   type          8807 non-null   object\n",
            " 2   title         8807 non-null   object\n",
            " 3   director      6173 non-null   object\n",
            " 4   cast          7982 non-null   object\n",
            " 5   country       7976 non-null   object\n",
            " 6   date_added    8797 non-null   object\n",
            " 7   release_year  8807 non-null   int64 \n",
            " 8   rating        8803 non-null   object\n",
            " 9   duration      8804 non-null   object\n",
            " 10  listed_in     8807 non-null   object\n",
            " 11  description   8807 non-null   object\n",
            "dtypes: int64(1), object(11)\n",
            "memory usage: 825.8+ KB\n"
          ]
        }
      ]
    },
    {
      "cell_type": "code",
      "source": [
        "df.isnull().sum()"
      ],
      "metadata": {
        "colab": {
          "base_uri": "https://localhost:8080/",
          "height": 460
        },
        "id": "fG-gaO7Vj8Be",
        "outputId": "cd54bd6f-2643-43ce-a001-b568ff8378cb"
      },
      "execution_count": null,
      "outputs": [
        {
          "output_type": "execute_result",
          "data": {
            "text/plain": [
              "show_id            0\n",
              "type               0\n",
              "title              0\n",
              "director        2634\n",
              "cast             825\n",
              "country          831\n",
              "date_added        10\n",
              "release_year       0\n",
              "rating             4\n",
              "duration           3\n",
              "listed_in          0\n",
              "description        0\n",
              "dtype: int64"
            ],
            "text/html": [
              "<div>\n",
              "<style scoped>\n",
              "    .dataframe tbody tr th:only-of-type {\n",
              "        vertical-align: middle;\n",
              "    }\n",
              "\n",
              "    .dataframe tbody tr th {\n",
              "        vertical-align: top;\n",
              "    }\n",
              "\n",
              "    .dataframe thead th {\n",
              "        text-align: right;\n",
              "    }\n",
              "</style>\n",
              "<table border=\"1\" class=\"dataframe\">\n",
              "  <thead>\n",
              "    <tr style=\"text-align: right;\">\n",
              "      <th></th>\n",
              "      <th>0</th>\n",
              "    </tr>\n",
              "  </thead>\n",
              "  <tbody>\n",
              "    <tr>\n",
              "      <th>show_id</th>\n",
              "      <td>0</td>\n",
              "    </tr>\n",
              "    <tr>\n",
              "      <th>type</th>\n",
              "      <td>0</td>\n",
              "    </tr>\n",
              "    <tr>\n",
              "      <th>title</th>\n",
              "      <td>0</td>\n",
              "    </tr>\n",
              "    <tr>\n",
              "      <th>director</th>\n",
              "      <td>2634</td>\n",
              "    </tr>\n",
              "    <tr>\n",
              "      <th>cast</th>\n",
              "      <td>825</td>\n",
              "    </tr>\n",
              "    <tr>\n",
              "      <th>country</th>\n",
              "      <td>831</td>\n",
              "    </tr>\n",
              "    <tr>\n",
              "      <th>date_added</th>\n",
              "      <td>10</td>\n",
              "    </tr>\n",
              "    <tr>\n",
              "      <th>release_year</th>\n",
              "      <td>0</td>\n",
              "    </tr>\n",
              "    <tr>\n",
              "      <th>rating</th>\n",
              "      <td>4</td>\n",
              "    </tr>\n",
              "    <tr>\n",
              "      <th>duration</th>\n",
              "      <td>3</td>\n",
              "    </tr>\n",
              "    <tr>\n",
              "      <th>listed_in</th>\n",
              "      <td>0</td>\n",
              "    </tr>\n",
              "    <tr>\n",
              "      <th>description</th>\n",
              "      <td>0</td>\n",
              "    </tr>\n",
              "  </tbody>\n",
              "</table>\n",
              "</div><br><label><b>dtype:</b> int64</label>"
            ]
          },
          "metadata": {},
          "execution_count": 28
        }
      ]
    },
    {
      "cell_type": "code",
      "source": [
        "(df.isnull().sum()/len(df))*100"
      ],
      "metadata": {
        "colab": {
          "base_uri": "https://localhost:8080/",
          "height": 460
        },
        "id": "fT5_NcLQkmac",
        "outputId": "932c47f5-c494-4a01-90e9-8f4f0165c155"
      },
      "execution_count": null,
      "outputs": [
        {
          "output_type": "execute_result",
          "data": {
            "text/plain": [
              "show_id         0.0\n",
              "type            0.0\n",
              "title           0.0\n",
              "director        0.0\n",
              "cast            0.0\n",
              "country         0.0\n",
              "date_added      0.0\n",
              "release_year    0.0\n",
              "rating          0.0\n",
              "duration        0.0\n",
              "listed_in       0.0\n",
              "description     0.0\n",
              "dtype: float64"
            ],
            "text/html": [
              "<div>\n",
              "<style scoped>\n",
              "    .dataframe tbody tr th:only-of-type {\n",
              "        vertical-align: middle;\n",
              "    }\n",
              "\n",
              "    .dataframe tbody tr th {\n",
              "        vertical-align: top;\n",
              "    }\n",
              "\n",
              "    .dataframe thead th {\n",
              "        text-align: right;\n",
              "    }\n",
              "</style>\n",
              "<table border=\"1\" class=\"dataframe\">\n",
              "  <thead>\n",
              "    <tr style=\"text-align: right;\">\n",
              "      <th></th>\n",
              "      <th>0</th>\n",
              "    </tr>\n",
              "  </thead>\n",
              "  <tbody>\n",
              "    <tr>\n",
              "      <th>show_id</th>\n",
              "      <td>0.0</td>\n",
              "    </tr>\n",
              "    <tr>\n",
              "      <th>type</th>\n",
              "      <td>0.0</td>\n",
              "    </tr>\n",
              "    <tr>\n",
              "      <th>title</th>\n",
              "      <td>0.0</td>\n",
              "    </tr>\n",
              "    <tr>\n",
              "      <th>director</th>\n",
              "      <td>0.0</td>\n",
              "    </tr>\n",
              "    <tr>\n",
              "      <th>cast</th>\n",
              "      <td>0.0</td>\n",
              "    </tr>\n",
              "    <tr>\n",
              "      <th>country</th>\n",
              "      <td>0.0</td>\n",
              "    </tr>\n",
              "    <tr>\n",
              "      <th>date_added</th>\n",
              "      <td>0.0</td>\n",
              "    </tr>\n",
              "    <tr>\n",
              "      <th>release_year</th>\n",
              "      <td>0.0</td>\n",
              "    </tr>\n",
              "    <tr>\n",
              "      <th>rating</th>\n",
              "      <td>0.0</td>\n",
              "    </tr>\n",
              "    <tr>\n",
              "      <th>duration</th>\n",
              "      <td>0.0</td>\n",
              "    </tr>\n",
              "    <tr>\n",
              "      <th>listed_in</th>\n",
              "      <td>0.0</td>\n",
              "    </tr>\n",
              "    <tr>\n",
              "      <th>description</th>\n",
              "      <td>0.0</td>\n",
              "    </tr>\n",
              "  </tbody>\n",
              "</table>\n",
              "</div><br><label><b>dtype:</b> float64</label>"
            ]
          },
          "metadata": {},
          "execution_count": 30
        }
      ]
    },
    {
      "cell_type": "code",
      "source": [
        "df=df.drop(\"director\",axis=1,inplace=True)"
      ],
      "metadata": {
        "id": "drFfQp1PmGPD"
      },
      "execution_count": null,
      "outputs": []
    },
    {
      "cell_type": "code",
      "source": [
        "df.columns"
      ],
      "metadata": {
        "colab": {
          "base_uri": "https://localhost:8080/"
        },
        "id": "_7tp9NfDmnH1",
        "outputId": "ed118019-7b91-422e-c3a5-b53f756f54b6"
      },
      "execution_count": null,
      "outputs": [
        {
          "output_type": "execute_result",
          "data": {
            "text/plain": [
              "Index(['show_id', 'type', 'title', 'cast', 'country', 'release_year', 'rating',\n",
              "       'duration', 'listed_in', 'description'],\n",
              "      dtype='object')"
            ]
          },
          "metadata": {},
          "execution_count": 33
        }
      ]
    },
    {
      "cell_type": "code",
      "source": [
        "df[df[\"show_id\"].isnull()]"
      ],
      "metadata": {
        "colab": {
          "base_uri": "https://localhost:8080/",
          "height": 53
        },
        "id": "iOc9g-Iqm9QJ",
        "outputId": "cfc728d8-7b9e-4575-be1b-884db9d38f68"
      },
      "execution_count": null,
      "outputs": [
        {
          "output_type": "execute_result",
          "data": {
            "text/plain": [
              "Empty DataFrame\n",
              "Columns: [show_id, type, title, cast, country, release_year, rating, duration, listed_in, description]\n",
              "Index: []"
            ],
            "text/html": [
              "\n",
              "  <div id=\"df-0ce1175d-3426-48c9-9bef-57903c29fb2b\" class=\"colab-df-container\">\n",
              "    <div>\n",
              "<style scoped>\n",
              "    .dataframe tbody tr th:only-of-type {\n",
              "        vertical-align: middle;\n",
              "    }\n",
              "\n",
              "    .dataframe tbody tr th {\n",
              "        vertical-align: top;\n",
              "    }\n",
              "\n",
              "    .dataframe thead th {\n",
              "        text-align: right;\n",
              "    }\n",
              "</style>\n",
              "<table border=\"1\" class=\"dataframe\">\n",
              "  <thead>\n",
              "    <tr style=\"text-align: right;\">\n",
              "      <th></th>\n",
              "      <th>show_id</th>\n",
              "      <th>type</th>\n",
              "      <th>title</th>\n",
              "      <th>cast</th>\n",
              "      <th>country</th>\n",
              "      <th>release_year</th>\n",
              "      <th>rating</th>\n",
              "      <th>duration</th>\n",
              "      <th>listed_in</th>\n",
              "      <th>description</th>\n",
              "    </tr>\n",
              "  </thead>\n",
              "  <tbody>\n",
              "  </tbody>\n",
              "</table>\n",
              "</div>\n",
              "    <div class=\"colab-df-buttons\">\n",
              "\n",
              "  <div class=\"colab-df-container\">\n",
              "    <button class=\"colab-df-convert\" onclick=\"convertToInteractive('df-0ce1175d-3426-48c9-9bef-57903c29fb2b')\"\n",
              "            title=\"Convert this dataframe to an interactive table.\"\n",
              "            style=\"display:none;\">\n",
              "\n",
              "  <svg xmlns=\"http://www.w3.org/2000/svg\" height=\"24px\" viewBox=\"0 -960 960 960\">\n",
              "    <path d=\"M120-120v-720h720v720H120Zm60-500h600v-160H180v160Zm220 220h160v-160H400v160Zm0 220h160v-160H400v160ZM180-400h160v-160H180v160Zm440 0h160v-160H620v160ZM180-180h160v-160H180v160Zm440 0h160v-160H620v160Z\"/>\n",
              "  </svg>\n",
              "    </button>\n",
              "\n",
              "  <style>\n",
              "    .colab-df-container {\n",
              "      display:flex;\n",
              "      gap: 12px;\n",
              "    }\n",
              "\n",
              "    .colab-df-convert {\n",
              "      background-color: #E8F0FE;\n",
              "      border: none;\n",
              "      border-radius: 50%;\n",
              "      cursor: pointer;\n",
              "      display: none;\n",
              "      fill: #1967D2;\n",
              "      height: 32px;\n",
              "      padding: 0 0 0 0;\n",
              "      width: 32px;\n",
              "    }\n",
              "\n",
              "    .colab-df-convert:hover {\n",
              "      background-color: #E2EBFA;\n",
              "      box-shadow: 0px 1px 2px rgba(60, 64, 67, 0.3), 0px 1px 3px 1px rgba(60, 64, 67, 0.15);\n",
              "      fill: #174EA6;\n",
              "    }\n",
              "\n",
              "    .colab-df-buttons div {\n",
              "      margin-bottom: 4px;\n",
              "    }\n",
              "\n",
              "    [theme=dark] .colab-df-convert {\n",
              "      background-color: #3B4455;\n",
              "      fill: #D2E3FC;\n",
              "    }\n",
              "\n",
              "    [theme=dark] .colab-df-convert:hover {\n",
              "      background-color: #434B5C;\n",
              "      box-shadow: 0px 1px 3px 1px rgba(0, 0, 0, 0.15);\n",
              "      filter: drop-shadow(0px 1px 2px rgba(0, 0, 0, 0.3));\n",
              "      fill: #FFFFFF;\n",
              "    }\n",
              "  </style>\n",
              "\n",
              "    <script>\n",
              "      const buttonEl =\n",
              "        document.querySelector('#df-0ce1175d-3426-48c9-9bef-57903c29fb2b button.colab-df-convert');\n",
              "      buttonEl.style.display =\n",
              "        google.colab.kernel.accessAllowed ? 'block' : 'none';\n",
              "\n",
              "      async function convertToInteractive(key) {\n",
              "        const element = document.querySelector('#df-0ce1175d-3426-48c9-9bef-57903c29fb2b');\n",
              "        const dataTable =\n",
              "          await google.colab.kernel.invokeFunction('convertToInteractive',\n",
              "                                                    [key], {});\n",
              "        if (!dataTable) return;\n",
              "\n",
              "        const docLinkHtml = 'Like what you see? Visit the ' +\n",
              "          '<a target=\"_blank\" href=https://colab.research.google.com/notebooks/data_table.ipynb>data table notebook</a>'\n",
              "          + ' to learn more about interactive tables.';\n",
              "        element.innerHTML = '';\n",
              "        dataTable['output_type'] = 'display_data';\n",
              "        await google.colab.output.renderOutput(dataTable, element);\n",
              "        const docLink = document.createElement('div');\n",
              "        docLink.innerHTML = docLinkHtml;\n",
              "        element.appendChild(docLink);\n",
              "      }\n",
              "    </script>\n",
              "  </div>\n",
              "\n",
              "\n",
              "    </div>\n",
              "  </div>\n"
            ],
            "application/vnd.google.colaboratory.intrinsic+json": {
              "type": "dataframe",
              "repr_error": "Out of range float values are not JSON compliant: nan"
            }
          },
          "metadata": {},
          "execution_count": 38
        }
      ]
    },
    {
      "cell_type": "code",
      "source": [
        "df[\"show_id\"].fillna(\"India\")"
      ],
      "metadata": {
        "colab": {
          "base_uri": "https://localhost:8080/",
          "height": 458
        },
        "id": "b3tolj8oooVW",
        "outputId": "16834acf-92f0-4971-ab63-215890ffff88"
      },
      "execution_count": null,
      "outputs": [
        {
          "output_type": "execute_result",
          "data": {
            "text/plain": [
              "7          s8\n",
              "8          s9\n",
              "9         s10\n",
              "12        s13\n",
              "24        s25\n",
              "        ...  \n",
              "8801    s8802\n",
              "8802    s8803\n",
              "8804    s8805\n",
              "8805    s8806\n",
              "8806    s8807\n",
              "Name: show_id, Length: 5332, dtype: object"
            ],
            "text/html": [
              "<div>\n",
              "<style scoped>\n",
              "    .dataframe tbody tr th:only-of-type {\n",
              "        vertical-align: middle;\n",
              "    }\n",
              "\n",
              "    .dataframe tbody tr th {\n",
              "        vertical-align: top;\n",
              "    }\n",
              "\n",
              "    .dataframe thead th {\n",
              "        text-align: right;\n",
              "    }\n",
              "</style>\n",
              "<table border=\"1\" class=\"dataframe\">\n",
              "  <thead>\n",
              "    <tr style=\"text-align: right;\">\n",
              "      <th></th>\n",
              "      <th>show_id</th>\n",
              "    </tr>\n",
              "  </thead>\n",
              "  <tbody>\n",
              "    <tr>\n",
              "      <th>7</th>\n",
              "      <td>s8</td>\n",
              "    </tr>\n",
              "    <tr>\n",
              "      <th>8</th>\n",
              "      <td>s9</td>\n",
              "    </tr>\n",
              "    <tr>\n",
              "      <th>9</th>\n",
              "      <td>s10</td>\n",
              "    </tr>\n",
              "    <tr>\n",
              "      <th>12</th>\n",
              "      <td>s13</td>\n",
              "    </tr>\n",
              "    <tr>\n",
              "      <th>24</th>\n",
              "      <td>s25</td>\n",
              "    </tr>\n",
              "    <tr>\n",
              "      <th>...</th>\n",
              "      <td>...</td>\n",
              "    </tr>\n",
              "    <tr>\n",
              "      <th>8801</th>\n",
              "      <td>s8802</td>\n",
              "    </tr>\n",
              "    <tr>\n",
              "      <th>8802</th>\n",
              "      <td>s8803</td>\n",
              "    </tr>\n",
              "    <tr>\n",
              "      <th>8804</th>\n",
              "      <td>s8805</td>\n",
              "    </tr>\n",
              "    <tr>\n",
              "      <th>8805</th>\n",
              "      <td>s8806</td>\n",
              "    </tr>\n",
              "    <tr>\n",
              "      <th>8806</th>\n",
              "      <td>s8807</td>\n",
              "    </tr>\n",
              "  </tbody>\n",
              "</table>\n",
              "<p>5332 rows × 1 columns</p>\n",
              "</div><br><label><b>dtype:</b> object</label>"
            ]
          },
          "metadata": {},
          "execution_count": 40
        }
      ]
    },
    {
      "cell_type": "code",
      "source": [
        "id_value=[1,2,3,4]"
      ],
      "metadata": {
        "id": "OMm4HliRpFC9"
      },
      "execution_count": null,
      "outputs": []
    },
    {
      "cell_type": "code",
      "source": [
        "df.isnull().sum()"
      ],
      "metadata": {
        "colab": {
          "base_uri": "https://localhost:8080/",
          "height": 397
        },
        "id": "aiScx2Rmq3XI",
        "outputId": "3550ad4c-8a22-4d9c-c6dc-0675b4b24ea1"
      },
      "execution_count": null,
      "outputs": [
        {
          "output_type": "execute_result",
          "data": {
            "text/plain": [
              "show_id         0\n",
              "type            0\n",
              "title           0\n",
              "cast            0\n",
              "country         0\n",
              "release_year    0\n",
              "rating          0\n",
              "duration        0\n",
              "listed_in       0\n",
              "description     0\n",
              "dtype: int64"
            ],
            "text/html": [
              "<div>\n",
              "<style scoped>\n",
              "    .dataframe tbody tr th:only-of-type {\n",
              "        vertical-align: middle;\n",
              "    }\n",
              "\n",
              "    .dataframe tbody tr th {\n",
              "        vertical-align: top;\n",
              "    }\n",
              "\n",
              "    .dataframe thead th {\n",
              "        text-align: right;\n",
              "    }\n",
              "</style>\n",
              "<table border=\"1\" class=\"dataframe\">\n",
              "  <thead>\n",
              "    <tr style=\"text-align: right;\">\n",
              "      <th></th>\n",
              "      <th>0</th>\n",
              "    </tr>\n",
              "  </thead>\n",
              "  <tbody>\n",
              "    <tr>\n",
              "      <th>show_id</th>\n",
              "      <td>0</td>\n",
              "    </tr>\n",
              "    <tr>\n",
              "      <th>type</th>\n",
              "      <td>0</td>\n",
              "    </tr>\n",
              "    <tr>\n",
              "      <th>title</th>\n",
              "      <td>0</td>\n",
              "    </tr>\n",
              "    <tr>\n",
              "      <th>cast</th>\n",
              "      <td>0</td>\n",
              "    </tr>\n",
              "    <tr>\n",
              "      <th>country</th>\n",
              "      <td>0</td>\n",
              "    </tr>\n",
              "    <tr>\n",
              "      <th>release_year</th>\n",
              "      <td>0</td>\n",
              "    </tr>\n",
              "    <tr>\n",
              "      <th>rating</th>\n",
              "      <td>0</td>\n",
              "    </tr>\n",
              "    <tr>\n",
              "      <th>duration</th>\n",
              "      <td>0</td>\n",
              "    </tr>\n",
              "    <tr>\n",
              "      <th>listed_in</th>\n",
              "      <td>0</td>\n",
              "    </tr>\n",
              "    <tr>\n",
              "      <th>description</th>\n",
              "      <td>0</td>\n",
              "    </tr>\n",
              "  </tbody>\n",
              "</table>\n",
              "</div><br><label><b>dtype:</b> int64</label>"
            ]
          },
          "metadata": {},
          "execution_count": 42
        }
      ]
    },
    {
      "cell_type": "code",
      "source": [
        "df[\"cast\"].value_counts()"
      ],
      "metadata": {
        "colab": {
          "base_uri": "https://localhost:8080/",
          "height": 489
        },
        "id": "laL8Ogk_vpws",
        "outputId": "66c0be00-eb38-45fa-a326-aa8ae821d2ef"
      },
      "execution_count": null,
      "outputs": [
        {
          "output_type": "execute_result",
          "data": {
            "text/plain": [
              "cast\n",
              "Samuel West                                                                                                                                                                   10\n",
              "Jeff Dunham                                                                                                                                                                    7\n",
              "Kevin Hart                                                                                                                                                                     6\n",
              "Jim Gaffigan                                                                                                                                                                   5\n",
              "Bill Burr                                                                                                                                                                      5\n",
              "                                                                                                                                                                              ..\n",
              "Scarlett Johansson, Adam Driver, Laura Dern, Alan Alda, Ray Liotta, Julie Hagerty, Merritt Wever, Azhy Robertson                                                               1\n",
              "Chigul, Patrick Diabuah, Adetomiwa Edun, Uche Jumbo, Saidi Balogun, Ali Nuhu, Bimbo Manuel, Akah Nnani, Damilola Adegbite, Dorcas Shola Fapson                                 1\n",
              "Petrônio Gontijo, Day Mesquita, Beth Goulart, Dalton Vigh, Eduardo Galvão, César Mello, Leonardo Franco, Raphael Viana, Otávio Martins                                         1\n",
              "Prabhas, Shraddha Kapoor, Jackie Shroff, Chunky Pandey, Neil Nitin Mukesh, Arun Vijay, Vennela Kishore, Murli Sharma, Lal, Prakash Belawadi, Mahesh Manjrekar, Tinnu Anand     1\n",
              "Laura Marano, Gregg Sulkin, Isabella Gomez, Johannah Newmarch, Lillian Doucet-Roche, Chanelle Peloso, Barclay Hope, Garfield Wilson                                            1\n",
              "Name: count, Length: 5200, dtype: int64"
            ],
            "text/html": [
              "<div>\n",
              "<style scoped>\n",
              "    .dataframe tbody tr th:only-of-type {\n",
              "        vertical-align: middle;\n",
              "    }\n",
              "\n",
              "    .dataframe tbody tr th {\n",
              "        vertical-align: top;\n",
              "    }\n",
              "\n",
              "    .dataframe thead th {\n",
              "        text-align: right;\n",
              "    }\n",
              "</style>\n",
              "<table border=\"1\" class=\"dataframe\">\n",
              "  <thead>\n",
              "    <tr style=\"text-align: right;\">\n",
              "      <th></th>\n",
              "      <th>count</th>\n",
              "    </tr>\n",
              "    <tr>\n",
              "      <th>cast</th>\n",
              "      <th></th>\n",
              "    </tr>\n",
              "  </thead>\n",
              "  <tbody>\n",
              "    <tr>\n",
              "      <th>Samuel West</th>\n",
              "      <td>10</td>\n",
              "    </tr>\n",
              "    <tr>\n",
              "      <th>Jeff Dunham</th>\n",
              "      <td>7</td>\n",
              "    </tr>\n",
              "    <tr>\n",
              "      <th>Kevin Hart</th>\n",
              "      <td>6</td>\n",
              "    </tr>\n",
              "    <tr>\n",
              "      <th>Jim Gaffigan</th>\n",
              "      <td>5</td>\n",
              "    </tr>\n",
              "    <tr>\n",
              "      <th>Bill Burr</th>\n",
              "      <td>5</td>\n",
              "    </tr>\n",
              "    <tr>\n",
              "      <th>...</th>\n",
              "      <td>...</td>\n",
              "    </tr>\n",
              "    <tr>\n",
              "      <th>Scarlett Johansson, Adam Driver, Laura Dern, Alan Alda, Ray Liotta, Julie Hagerty, Merritt Wever, Azhy Robertson</th>\n",
              "      <td>1</td>\n",
              "    </tr>\n",
              "    <tr>\n",
              "      <th>Chigul, Patrick Diabuah, Adetomiwa Edun, Uche Jumbo, Saidi Balogun, Ali Nuhu, Bimbo Manuel, Akah Nnani, Damilola Adegbite, Dorcas Shola Fapson</th>\n",
              "      <td>1</td>\n",
              "    </tr>\n",
              "    <tr>\n",
              "      <th>Petrônio Gontijo, Day Mesquita, Beth Goulart, Dalton Vigh, Eduardo Galvão, César Mello, Leonardo Franco, Raphael Viana, Otávio Martins</th>\n",
              "      <td>1</td>\n",
              "    </tr>\n",
              "    <tr>\n",
              "      <th>Prabhas, Shraddha Kapoor, Jackie Shroff, Chunky Pandey, Neil Nitin Mukesh, Arun Vijay, Vennela Kishore, Murli Sharma, Lal, Prakash Belawadi, Mahesh Manjrekar, Tinnu Anand</th>\n",
              "      <td>1</td>\n",
              "    </tr>\n",
              "    <tr>\n",
              "      <th>Laura Marano, Gregg Sulkin, Isabella Gomez, Johannah Newmarch, Lillian Doucet-Roche, Chanelle Peloso, Barclay Hope, Garfield Wilson</th>\n",
              "      <td>1</td>\n",
              "    </tr>\n",
              "  </tbody>\n",
              "</table>\n",
              "<p>5200 rows × 1 columns</p>\n",
              "</div><br><label><b>dtype:</b> int64</label>"
            ]
          },
          "metadata": {},
          "execution_count": 43
        }
      ]
    },
    {
      "cell_type": "code",
      "source": [
        "df.columns"
      ],
      "metadata": {
        "colab": {
          "base_uri": "https://localhost:8080/",
          "height": 158
        },
        "id": "r3hLc84RwUsb",
        "outputId": "e6a6c907-5972-4749-8967-89e410373d02"
      },
      "execution_count": 6,
      "outputs": [
        {
          "output_type": "error",
          "ename": "NameError",
          "evalue": "name 'df' is not defined",
          "traceback": [
            "\u001b[0;31m---------------------------------------------------------------------------\u001b[0m",
            "\u001b[0;31mNameError\u001b[0m                                 Traceback (most recent call last)",
            "\u001b[0;32m/tmp/ipython-input-6-3062726244.py\u001b[0m in \u001b[0;36m<cell line: 0>\u001b[0;34m()\u001b[0m\n\u001b[0;32m----> 1\u001b[0;31m \u001b[0mdf\u001b[0m\u001b[0;34m.\u001b[0m\u001b[0mcolumns\u001b[0m\u001b[0;34m\u001b[0m\u001b[0;34m\u001b[0m\u001b[0m\n\u001b[0m\u001b[1;32m      2\u001b[0m \u001b[0mdf\u001b[0m\u001b[0;34m.\u001b[0m\u001b[0mloc\u001b[0m\u001b[0;34m[\u001b[0m\u001b[0;36m1\u001b[0m\u001b[0;34m:\u001b[0m\u001b[0;36m5\u001b[0m\u001b[0;34m,\u001b[0m\u001b[0;34m[\u001b[0m\u001b[0;34m'type'\u001b[0m\u001b[0;34m,\u001b[0m \u001b[0;34m'title'\u001b[0m\u001b[0;34m,\u001b[0m \u001b[0;34m'cast'\u001b[0m\u001b[0;34m]\u001b[0m\u001b[0;34m]\u001b[0m\u001b[0;34m\u001b[0m\u001b[0;34m\u001b[0m\u001b[0m\n",
            "\u001b[0;31mNameError\u001b[0m: name 'df' is not defined"
          ]
        }
      ]
    },
    {
      "cell_type": "code",
      "source": [
        "df1=pd.DataFrame({\"id\":[1,2,3,4],\"name\":[\"A\",\"B\",\"C\",\"D\"]})\n",
        "df2=pd.DataFrame({\"id\":[1,2,3,4,5],\"marks\":[23,14,15,10,16]})"
      ],
      "metadata": {
        "colab": {
          "base_uri": "https://localhost:8080/",
          "height": 158
        },
        "id": "PNC9bGzBltje",
        "outputId": "272a0f27-9745-418c-cfac-4ccf3c9a124c"
      },
      "execution_count": 8,
      "outputs": [
        {
          "output_type": "error",
          "ename": "NameError",
          "evalue": "name 'pd' is not defined",
          "traceback": [
            "\u001b[0;31m---------------------------------------------------------------------------\u001b[0m",
            "\u001b[0;31mNameError\u001b[0m                                 Traceback (most recent call last)",
            "\u001b[0;32m/tmp/ipython-input-8-271735762.py\u001b[0m in \u001b[0;36m<cell line: 0>\u001b[0;34m()\u001b[0m\n\u001b[0;32m----> 1\u001b[0;31m \u001b[0mdf1\u001b[0m\u001b[0;34m=\u001b[0m\u001b[0mpd\u001b[0m\u001b[0;34m.\u001b[0m\u001b[0mDataFrame\u001b[0m\u001b[0;34m(\u001b[0m\u001b[0;34m{\u001b[0m\u001b[0;34m\"id\"\u001b[0m\u001b[0;34m:\u001b[0m\u001b[0;34m[\u001b[0m\u001b[0;36m1\u001b[0m\u001b[0;34m,\u001b[0m\u001b[0;36m2\u001b[0m\u001b[0;34m,\u001b[0m\u001b[0;36m3\u001b[0m\u001b[0;34m,\u001b[0m\u001b[0;36m4\u001b[0m\u001b[0;34m]\u001b[0m\u001b[0;34m,\u001b[0m\u001b[0;34m\"name\"\u001b[0m\u001b[0;34m:\u001b[0m\u001b[0;34m[\u001b[0m\u001b[0;34m\"A\"\u001b[0m\u001b[0;34m,\u001b[0m\u001b[0;34m\"B\"\u001b[0m\u001b[0;34m,\u001b[0m\u001b[0;34m\"C\"\u001b[0m\u001b[0;34m,\u001b[0m\u001b[0;34m\"D\"\u001b[0m\u001b[0;34m]\u001b[0m\u001b[0;34m}\u001b[0m\u001b[0;34m)\u001b[0m\u001b[0;34m\u001b[0m\u001b[0;34m\u001b[0m\u001b[0m\n\u001b[0m\u001b[1;32m      2\u001b[0m \u001b[0mdf2\u001b[0m\u001b[0;34m=\u001b[0m\u001b[0mpd\u001b[0m\u001b[0;34m.\u001b[0m\u001b[0mDataFrame\u001b[0m\u001b[0;34m(\u001b[0m\u001b[0;34m{\u001b[0m\u001b[0;34m\"id\"\u001b[0m\u001b[0;34m:\u001b[0m\u001b[0;34m[\u001b[0m\u001b[0;36m1\u001b[0m\u001b[0;34m,\u001b[0m\u001b[0;36m2\u001b[0m\u001b[0;34m,\u001b[0m\u001b[0;36m3\u001b[0m\u001b[0;34m,\u001b[0m\u001b[0;36m4\u001b[0m\u001b[0;34m,\u001b[0m\u001b[0;36m5\u001b[0m\u001b[0;34m]\u001b[0m\u001b[0;34m,\u001b[0m\u001b[0;34m\"marks\"\u001b[0m\u001b[0;34m:\u001b[0m\u001b[0;34m[\u001b[0m\u001b[0;36m23\u001b[0m\u001b[0;34m,\u001b[0m\u001b[0;36m14\u001b[0m\u001b[0;34m,\u001b[0m\u001b[0;36m15\u001b[0m\u001b[0;34m,\u001b[0m\u001b[0;36m10\u001b[0m\u001b[0;34m,\u001b[0m\u001b[0;36m16\u001b[0m\u001b[0;34m]\u001b[0m\u001b[0;34m}\u001b[0m\u001b[0;34m)\u001b[0m\u001b[0;34m\u001b[0m\u001b[0;34m\u001b[0m\u001b[0m\n",
            "\u001b[0;31mNameError\u001b[0m: name 'pd' is not defined"
          ]
        }
      ]
    }
  ]
}